{
 "cells": [
  {
   "cell_type": "markdown",
   "metadata": {},
   "source": [
    "# Assignment Day 5 | 10th July 2020"
   ]
  },
  {
   "cell_type": "markdown",
   "metadata": {},
   "source": [
    "Question 1 :\n",
    "Write a Python program to find the first 20 non-even prime natural numbers.\n"
   ]
  },
  {
   "cell_type": "code",
   "execution_count": 15,
   "metadata": {},
   "outputs": [
    {
     "name": "stdout",
     "output_type": "stream",
     "text": [
      "[3, 5, 7, 11, 13, 17, 19, 23, 29, 31, 37, 41, 43, 47, 53, 59, 61, 67, 71, 73]\n"
     ]
    }
   ],
   "source": [
    "def is_prime(num):\n",
    "    if num > 1:\n",
    "       for i in range(2,num):\n",
    "           if (num % i) == 0:\n",
    "               break\n",
    "       else:\n",
    "           return num\n",
    "k=[]    \n",
    "for i in range(1,300):\n",
    "    h=is_prime(i)\n",
    "    if len(k)==20:\n",
    "        break\n",
    "    if h!=None and h%2>0:\n",
    "        k.append(h)\n",
    "\n",
    "print(k)        "
   ]
  },
  {
   "cell_type": "markdown",
   "metadata": {},
   "source": [
    "Question 2 :\n",
    "Write a Python program to implement 15 functions of string.\n"
   ]
  },
  {
   "cell_type": "code",
   "execution_count": 14,
   "metadata": {},
   "outputs": [
    {
     "name": "stdout",
     "output_type": "stream",
     "text": [
      "pRAVEEN_KUMAR\n",
      "Praveen_kumar\n",
      "13\n",
      "praveen_kumar\n",
      "PRAVEEN_KUMAR\n",
      "Praviin_kumar\n",
      "False\n",
      "True\n",
      "b'Praveen_kumar'\n",
      "-1\n",
      "['', '']\n",
      "Praveen_Kumar\n",
      "Praveen_kumar\n",
      "Praveen_kumar\n",
      "['Prav', '', 'n_kumar']\n"
     ]
    }
   ],
   "source": [
    "s = \"Praveen_kumar\"\n",
    "print(s.swapcase())\n",
    "print(s.strip())\n",
    "print(len(s))\n",
    "print(s.lower())\n",
    "print(s.upper())\n",
    "print(s.replace('e','i'))\n",
    "print(s.isnumeric())\n",
    "print(s.isidentifier())\n",
    "print(s.encode())\n",
    "print(s.find('w'))\n",
    "print(s.rsplit(s))\n",
    "print(s.title())\n",
    "print(s.zfill(5))\n",
    "print(s.translate('e'))\n",
    "print(s.split('e'))"
   ]
  },
  {
   "cell_type": "markdown",
   "metadata": {},
   "source": [
    "Question 3:\n",
    "Write a Python program to check if the given string is a Palindrome or Anagram or None of them.\n",
    "Display the message accordingly to the user.\n"
   ]
  },
  {
   "cell_type": "code",
   "execution_count": 13,
   "metadata": {},
   "outputs": [
    {
     "name": "stdout",
     "output_type": "stream",
     "text": [
      "Enter the first string: malayalam\n",
      "Enter the second string: malayalam\n",
      "Given strings are palindrome and Anagram\n"
     ]
    }
   ],
   "source": [
    "def palindrome(st1,st2):\n",
    "    if st1 == st2[::-1]:\n",
    "        return 1\n",
    "    else:\n",
    "        return 0\n",
    "    \n",
    "def anagram(st1,st2):\n",
    "    if sorted(s1)==sorted(s2):\n",
    "        return 1\n",
    "    else:\n",
    "        return 0\n",
    "    \n",
    "s1 = input('Enter the first string: ')\n",
    "s2 = input('Enter the second string: ')\n",
    "\n",
    "if palindrome(s1,s2) and anagram(s1,s2):\n",
    "    print('Given strings are palindrome and Anagram')\n",
    "elif palindrome(s1,s2):\n",
    "    print('Given string is palindrom')\n",
    "elif anagram(s1,s2):\n",
    "    print('Given string is an anagram')\n",
    "else:\n",
    "    print('Given string is not a palindorme nor Anagram')"
   ]
  },
  {
   "cell_type": "markdown",
   "metadata": {},
   "source": [
    "Question 4:\n",
    "Write a Python's user defined function that removes all the additional characters from the string\n",
    "and converts it finally to lower case using built-in lower(). eg: If the string is \"Dr. Darshan Ingle\n",
    "@AI-ML Trainer\", then the output be \"drdarshaningleaimltrainer\"."
   ]
  },
  {
   "cell_type": "code",
   "execution_count": 5,
   "metadata": {},
   "outputs": [
    {
     "name": "stdout",
     "output_type": "stream",
     "text": [
      "Dr. Darshan Ingle @AI-ML Trainer\n",
      "drdarshaningleaimltrainer\n"
     ]
    }
   ],
   "source": [
    "st = str(input())\n",
    "#st = 'Dr. Darshan Ingle @AI-ML Trainer'\n",
    "f_st=''\n",
    "for i in st:\n",
    "    if i.isalpha():\n",
    "        f_st = f_st+i\n",
    "print(f_st.lower())      "
   ]
  }
 ],
 "metadata": {
  "kernelspec": {
   "display_name": "Python 3",
   "language": "python",
   "name": "python3"
  },
  "language_info": {
   "codemirror_mode": {
    "name": "ipython",
    "version": 3
   },
   "file_extension": ".py",
   "mimetype": "text/x-python",
   "name": "python",
   "nbconvert_exporter": "python",
   "pygments_lexer": "ipython3",
   "version": "3.7.1"
  }
 },
 "nbformat": 4,
 "nbformat_minor": 4
}
