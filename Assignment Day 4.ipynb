{
 "cells": [
  {
   "cell_type": "markdown",
   "metadata": {},
   "source": [
    "# Assignment Day 4 | 9th July 2020"
   ]
  },
  {
   "cell_type": "markdown",
   "metadata": {},
   "source": [
    "Question 1 :\n",
    "Research on whether addition, subtraction, multiplication, division, floor division and modulo\n",
    "operations be performed on complex numbers. Based on your study, implement a Python\n",
    "program to demonstrate these operations.\n"
   ]
  },
  {
   "cell_type": "code",
   "execution_count": 29,
   "metadata": {},
   "outputs": [
    {
     "name": "stdout",
     "output_type": "stream",
     "text": [
      "Results of:\n",
      "\n",
      "Addition:  (6+8j) \n",
      "Subtraction:  (-2-2j) \n",
      "Multiplication:  (-7+22j) \n",
      "Division:  (0.5609756097560976+0.0487804878048781j)\n",
      "Floor division and Mod operations are not supported.\n"
     ]
    }
   ],
   "source": [
    "a=complex(2,3)\n",
    "b=complex(4,5)\n",
    "print('Results of:\\n\\nAddition: ',a+b,'\\nSubtraction: ',a-b,'\\nMultiplication: ',a*b,'\\nDivision: ',a/b)\n",
    "try:\n",
    "    print(a//b)\n",
    "    print(a%b)\n",
    "except TypeError:\n",
    "    print('Floor division and Mod operations are not supported.')"
   ]
  },
  {
   "cell_type": "markdown",
   "metadata": {},
   "source": [
    "Question 2 :\n",
    "Research on range() functions and its parameters. Create a markdown cell and write in your own\n",
    "words (no copy-paste from google please) what you understand about it. Implement a small\n",
    "program of your choice on the same.\n"
   ]
  },
  {
   "cell_type": "markdown",
   "metadata": {},
   "source": [
    "Range():\n",
    " It is an in-built function in python.\n",
    " The values are immutable in nature.\n",
    " Used widely in loop operations and many calculations.\n",
    " It consumes more memory than its predecossor xrange from python2.\n",
    " It has three parameters start, stop and step value.\n",
    "     start value - defines the start of the range.\n",
    "     stop value - defines the end of the range, and the mentioned end value is not considered.\n",
    "     step value - steps the range with the given value. \n",
    " \n",
    " Syntax:\n",
    "   range(start_value, stop_value, step_value)\n",
    "\n",
    "\n",
    "    "
   ]
  },
  {
   "cell_type": "code",
   "execution_count": 33,
   "metadata": {},
   "outputs": [
    {
     "name": "stdout",
     "output_type": "stream",
     "text": [
      "[2, 3, 4, 5, 6, 7, 8]\n",
      "[2, 4, 6, 8]\n"
     ]
    }
   ],
   "source": [
    "#Example for range function:\n",
    "\n",
    "print(list(range(2,9)))\n",
    "\n",
    "#with step value\n",
    "\n",
    "print(list(range(2,9,2)))"
   ]
  },
  {
   "cell_type": "markdown",
   "metadata": {},
   "source": [
    "Question 3:\n",
    " Consider two numbers. Perform their subtraction and if the result of subtraction is greater than\n",
    "25, print their multiplication result else print their division result.\n"
   ]
  },
  {
   "cell_type": "code",
   "execution_count": 23,
   "metadata": {},
   "outputs": [
    {
     "name": "stdout",
     "output_type": "stream",
     "text": [
      "Division result is : 1.9565217391304348\n"
     ]
    }
   ],
   "source": [
    "a=23\n",
    "b=45\n",
    "\n",
    "if b-a > 25:\n",
    "    print('Multiplication result is: ',a*b)\n",
    "else:\n",
    "    print('Division result is :',b/a)"
   ]
  },
  {
   "cell_type": "markdown",
   "metadata": {},
   "source": [
    "Question 4:\n",
    "Consider a list of 10 elements of integer values. If the number in the list is divisible by 2, print the\n",
    "result as \"square of that number minus 2\".\n"
   ]
  },
  {
   "cell_type": "code",
   "execution_count": 27,
   "metadata": {},
   "outputs": [
    {
     "name": "stdout",
     "output_type": "stream",
     "text": [
      "Square of  2 is  4 : minus 2 is:  2\n",
      "Square of  4 is  16 : minus 2 is:  14\n",
      "Square of  6 is  36 : minus 2 is:  34\n",
      "Square of  8 is  64 : minus 2 is:  62\n"
     ]
    }
   ],
   "source": [
    "a=[2,4,6,7,8,93,5,7,86.10]\n",
    "\n",
    "for i in a:\n",
    "    if i%2==0:\n",
    "        print('Square of ',i, 'is ',i**2,': minus 2 is: ', (i**2)-2)"
   ]
  },
  {
   "cell_type": "markdown",
   "metadata": {},
   "source": [
    "Question 5:\n",
    "Consider a list of 10 elements. Print all the elements in the list which are greater than 7 when that\n",
    "number is divided 2."
   ]
  },
  {
   "cell_type": "code",
   "execution_count": 28,
   "metadata": {},
   "outputs": [
    {
     "name": "stdout",
     "output_type": "stream",
     "text": [
      "23\n",
      "77\n",
      "45\n",
      "99\n",
      "121\n",
      "46\n"
     ]
    }
   ],
   "source": [
    "k=[23,4,5,6,77,8,45,99,121,46]\n",
    "\n",
    "for i in k:\n",
    "    if (i/2)>7:\n",
    "        print(i)"
   ]
  }
 ],
 "metadata": {
  "kernelspec": {
   "display_name": "Python 3",
   "language": "python",
   "name": "python3"
  },
  "language_info": {
   "codemirror_mode": {
    "name": "ipython",
    "version": 3
   },
   "file_extension": ".py",
   "mimetype": "text/x-python",
   "name": "python",
   "nbconvert_exporter": "python",
   "pygments_lexer": "ipython3",
   "version": "3.7.1"
  }
 },
 "nbformat": 4,
 "nbformat_minor": 4
}
